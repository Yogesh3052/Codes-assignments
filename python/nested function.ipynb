{
 "cells": [
  {
   "cell_type": "code",
   "execution_count": 2,
   "id": "b9529ed2",
   "metadata": {},
   "outputs": [],
   "source": [
    "def addition(a,b):\n",
    "    sum_n=a+b\n",
    "    def chech_odd_n(sum_n):\n",
    "        if sum_n%2==0:\n",
    "            return\"even\"\n",
    "        else:\n",
    "            return \"odd\"\n",
    "        sum_n=a+b\n",
    "        return check_odd_n(sum_n)"
   ]
  },
  {
   "cell_type": "code",
   "execution_count": 3,
   "id": "f166a15d",
   "metadata": {},
   "outputs": [],
   "source": [
    "addition(2,4)"
   ]
  },
  {
   "cell_type": "code",
   "execution_count": 13,
   "id": "57be6a38",
   "metadata": {},
   "outputs": [],
   "source": [
    "def getmarks():\n",
    "    k=int(input(\"enter your marks\"))\n",
    "    def result(getmarks):\n",
    "        if getmarks<40:\n",
    "            return \"fail\"\n",
    "        else:\n",
    "            return \"pass\"\n",
    "    return result(k)\n",
    "def getmarks():\n",
    "    print(\"Print second def of function\")"
   ]
  },
  {
   "cell_type": "code",
   "execution_count": 14,
   "id": "0c57cb10",
   "metadata": {},
   "outputs": [
    {
     "name": "stdout",
     "output_type": "stream",
     "text": [
      "Print second def of function\n"
     ]
    }
   ],
   "source": [
    "getmarks()"
   ]
  },
  {
   "cell_type": "code",
   "execution_count": null,
   "id": "fa3c1437",
   "metadata": {},
   "outputs": [],
   "source": []
  },
  {
   "cell_type": "code",
   "execution_count": null,
   "id": "c9ad447c",
   "metadata": {},
   "outputs": [],
   "source": []
  }
 ],
 "metadata": {
  "kernelspec": {
   "display_name": "Python 3 (ipykernel)",
   "language": "python",
   "name": "python3"
  },
  "language_info": {
   "codemirror_mode": {
    "name": "ipython",
    "version": 3
   },
   "file_extension": ".py",
   "mimetype": "text/x-python",
   "name": "python",
   "nbconvert_exporter": "python",
   "pygments_lexer": "ipython3",
   "version": "3.10.7"
  }
 },
 "nbformat": 4,
 "nbformat_minor": 5
}
