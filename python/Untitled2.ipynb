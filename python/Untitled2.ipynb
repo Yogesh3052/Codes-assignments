{
 "cells": [
  {
   "cell_type": "code",
   "execution_count": 15,
   "id": "d0a6236b",
   "metadata": {},
   "outputs": [],
   "source": [
    "class PC:\n",
    "    def __init__(self,model,color,RAM,ROM,CPU,clock,key):\n",
    "        self.model=model\n",
    "        self.color=color\n",
    "        self.RAM=RAM\n",
    "        self.ROM=ROM\n",
    "        self.CPU=self.CPU(clock,key)\n",
    "    class CPU:\n",
    "        def __init__(self,clock,key):\n",
    "            self.clock=clock\n",
    "            self.key=\"shakti\"\n",
    "            \n",
    "                "
   ]
  },
  {
   "cell_type": "code",
   "execution_count": 16,
   "id": "38ac37a3",
   "metadata": {},
   "outputs": [
    {
     "ename": "TypeError",
     "evalue": "PC.__init__() missing 2 required positional arguments: 'clock' and 'key'",
     "output_type": "error",
     "traceback": [
      "\u001b[1;31m---------------------------------------------------------------------------\u001b[0m",
      "\u001b[1;31mTypeError\u001b[0m                                 Traceback (most recent call last)",
      "Cell \u001b[1;32mIn [16], line 1\u001b[0m\n\u001b[1;32m----> 1\u001b[0m a\u001b[38;5;241m=\u001b[39m\u001b[43mPC\u001b[49m\u001b[43m(\u001b[49m\u001b[38;5;124;43m\"\u001b[39;49m\u001b[38;5;124;43mShakti\u001b[39;49m\u001b[38;5;124;43m\"\u001b[39;49m\u001b[43m,\u001b[49m\u001b[38;5;124;43m\"\u001b[39;49m\u001b[38;5;124;43mred\u001b[39;49m\u001b[38;5;124;43m\"\u001b[39;49m\u001b[43m,\u001b[49m\u001b[38;5;241;43m4\u001b[39;49m\u001b[43m,\u001b[49m\u001b[38;5;241;43m64\u001b[39;49m\u001b[43m,\u001b[49m\u001b[38;5;124;43m\"\u001b[39;49m\u001b[38;5;124;43mintel\u001b[39;49m\u001b[38;5;124;43m\"\u001b[39;49m\u001b[43m)\u001b[49m\n\u001b[0;32m      2\u001b[0m a\u001b[38;5;241m.\u001b[39mPC\u001b[38;5;241m.\u001b[39mCPU\u001b[38;5;241m.\u001b[39mmodel\n",
      "\u001b[1;31mTypeError\u001b[0m: PC.__init__() missing 2 required positional arguments: 'clock' and 'key'"
     ]
    }
   ],
   "source": [
    "a=PC(\"Shakti\",\"red\",4,64,\"intel\")\n",
    "a.PC.CPU.model"
   ]
  },
  {
   "cell_type": "code",
   "execution_count": null,
   "id": "13b3f9fd",
   "metadata": {},
   "outputs": [],
   "source": [
    "class Person:"
   ]
  },
  {
   "cell_type": "code",
   "execution_count": null,
   "id": "deb8c287",
   "metadata": {},
   "outputs": [],
   "source": []
  }
 ],
 "metadata": {
  "kernelspec": {
   "display_name": "Python 3 (ipykernel)",
   "language": "python",
   "name": "python3"
  },
  "language_info": {
   "codemirror_mode": {
    "name": "ipython",
    "version": 3
   },
   "file_extension": ".py",
   "mimetype": "text/x-python",
   "name": "python",
   "nbconvert_exporter": "python",
   "pygments_lexer": "ipython3",
   "version": "3.10.7"
  }
 },
 "nbformat": 4,
 "nbformat_minor": 5
}
